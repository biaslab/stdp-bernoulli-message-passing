{
  "nbformat": 4,
  "nbformat_minor": 0,
  "metadata": {
    "colab": {
      "provenance": []
    },
    "kernelspec": {
      "name": "python3",
      "display_name": "Python 3"
    },
    "language_info": {
      "name": "python"
    }
  },
  "cells": [
    {
      "cell_type": "code",
      "source": [
        "!pip install brian2\n",
        "from brian2 import *"
      ],
      "metadata": {
        "colab": {
          "base_uri": "https://localhost:8080/"
        },
        "id": "ByLlKRhJbpEP",
        "outputId": "ca2bfd55-5ea3-4866-a70c-ca62d57f7130"
      },
      "execution_count": 1,
      "outputs": [
        {
          "output_type": "stream",
          "name": "stdout",
          "text": [
            "Collecting brian2\n",
            "  Downloading brian2-2.9.0-cp312-cp312-manylinux_2_17_x86_64.manylinux2014_x86_64.whl.metadata (6.2 kB)\n",
            "Requirement already satisfied: numpy>=1.23.5 in /usr/local/lib/python3.12/dist-packages (from brian2) (2.0.2)\n",
            "Requirement already satisfied: cython>=0.29.21 in /usr/local/lib/python3.12/dist-packages (from brian2) (3.0.12)\n",
            "Requirement already satisfied: sympy>=1.2 in /usr/local/lib/python3.12/dist-packages (from brian2) (1.13.3)\n",
            "Requirement already satisfied: pyparsing in /usr/local/lib/python3.12/dist-packages (from brian2) (3.2.3)\n",
            "Requirement already satisfied: jinja2>=2.7 in /usr/local/lib/python3.12/dist-packages (from brian2) (3.1.6)\n",
            "Requirement already satisfied: setuptools>=61 in /usr/local/lib/python3.12/dist-packages (from brian2) (75.2.0)\n",
            "Requirement already satisfied: packaging in /usr/local/lib/python3.12/dist-packages (from brian2) (25.0)\n",
            "Requirement already satisfied: MarkupSafe>=2.0 in /usr/local/lib/python3.12/dist-packages (from jinja2>=2.7->brian2) (3.0.2)\n",
            "Requirement already satisfied: mpmath<1.4,>=1.1.0 in /usr/local/lib/python3.12/dist-packages (from sympy>=1.2->brian2) (1.3.0)\n",
            "Downloading brian2-2.9.0-cp312-cp312-manylinux_2_17_x86_64.manylinux2014_x86_64.whl (1.8 MB)\n",
            "\u001b[2K   \u001b[90m━━━━━━━━━━━━━━━━━━━━━━━━━━━━━━━━━━━━━━━━\u001b[0m \u001b[32m1.8/1.8 MB\u001b[0m \u001b[31m15.1 MB/s\u001b[0m eta \u001b[36m0:00:00\u001b[0m\n",
            "\u001b[?25hInstalling collected packages: brian2\n",
            "Successfully installed brian2-2.9.0\n"
          ]
        }
      ]
    },
    {
      "cell_type": "code",
      "source": [
        "import numpy as np"
      ],
      "metadata": {
        "id": "eMJcktkKbrKF"
      },
      "execution_count": 2,
      "outputs": []
    },
    {
      "cell_type": "code",
      "execution_count": 3,
      "metadata": {
        "id": "fFW9NswCa-92"
      },
      "outputs": [],
      "source": [
        "def message_computations(node, p1, p2):\n",
        "  start_scope()\n",
        "\n",
        "  #------------------------Input-spikes----------------------\n",
        "\n",
        "  v1 = array(np.random.binomial(size=1001, n=1, p= p1))\n",
        "  spike_time = v1*linspace(0, 10000, 1001)\n",
        "  times1 = array(spike_time[spike_time != 0])*ms\n",
        "  indices1 = array(ones(len(times1)))\n",
        "\n",
        "  inp1 = SpikeGeneratorGroup(2,indices1, times1)\n",
        "\n",
        "  v2 = array(np.random.binomial(size=1001, n=1, p= p2))\n",
        "  spike_time2 = v2*linspace(0, 10000, 1001)\n",
        "  times2 = array(spike_time2[spike_time2 != 0])*ms\n",
        "  indices2 = array(ones(len(times2)))\n",
        "\n",
        "  inp2 = SpikeGeneratorGroup(2,indices2, times2)\n",
        "\n",
        "\n",
        "  V_th = 1\n",
        "  V_rest = 0\n",
        "\n",
        "  eqs = '''\n",
        "  dv/dt = (V_rest - v)/tau : 1\n",
        "  tau : second\n",
        "  '''\n",
        "  #------------------------Input-neurons----------------------\n",
        "  G_in = NeuronGroup(2, eqs, threshold='v>1', reset='v = 0', method='exact')\n",
        "  G_in.tau = 10*ms\n",
        "\n",
        "  feedforward1 = Synapses(inp1, G_in, on_pre='v += 1.2')\n",
        "  feedforward1.connect(j='0')\n",
        "\n",
        "  feedforward2 = Synapses(inp2, G_in, on_pre='v += 1.2')\n",
        "  feedforward2.connect(j='1')\n",
        "\n",
        "  spike_mon = SpikeMonitor(G_in)\n",
        "  M_in = StateMonitor(G_in, 'v', record=True)\n",
        "\n",
        "  #------------------------AND1-----------------------\n",
        "  G_and1 = NeuronGroup(1, eqs, threshold='v>1', reset='v = 0', method='exact')\n",
        "  G_and1.tau = 5*ms\n",
        "\n",
        "  S1_and1 = Synapses(G_in, G_and1, on_pre='v += .52')\n",
        "  S1_and1.connect(i='0')\n",
        "\n",
        "  S2_and1 = Synapses(G_in, G_and1, on_pre='v += .52')\n",
        "  S2_and1.connect(i='1')\n",
        "  M_and1 = StateMonitor(G_and1, 'v', record=True)\n",
        "  spike_mon_and1 = SpikeMonitor(G_and1)\n",
        "\n",
        "  #-------------------------Or-------------------------\n",
        "  G_or = NeuronGroup(1, eqs, threshold='v>0.5', reset='v = 0', method='exact')\n",
        "  G_or.tau = 5*ms\n",
        "\n",
        "  S1_or = Synapses(G_in, G_or, on_pre='v += 1.01')\n",
        "  S1_or.connect(i='0')\n",
        "\n",
        "  S2_or = Synapses(G_in, G_or, on_pre='v += 1.01')\n",
        "  S2_or.connect(i='1')\n",
        "  M_or = StateMonitor(G_or, 'v', record=True)\n",
        "  spike_mon_or = SpikeMonitor(G_or)\n",
        "\n",
        "  #------------------------AND2-----------------------\n",
        "  # We use a negative weight here instead of the NOT gate for simplicity.\n",
        "  G_and2 = NeuronGroup(1, eqs, threshold='v>0.5', reset='v = 0', method='exact')\n",
        "  G_and2.tau = 5*ms\n",
        "\n",
        "  S1_and2 = Synapses(G_and1 , G_and2, on_pre='v += -.52')\n",
        "  S1_and2.connect(i='0')\n",
        "\n",
        "  S2_and2 = Synapses(G_or, G_and2, on_pre='v += .52')\n",
        "  S2_and2.connect(i='0')\n",
        "  M_and2 = StateMonitor(G_and2, 'v', record=True)\n",
        "  spike_mon_and2 = SpikeMonitor(G_and2)\n",
        "\n",
        "  #------------------------NOT----------------------\n",
        "  G_not = NeuronGroup(1, eqs, threshold='v>1', reset='v = 0', method='exact')\n",
        "  G_not.tau = 5*ms\n",
        "\n",
        "  spike_time3 = np.arange(0.5, 10000.5, 10.0)\n",
        "  times3 = array(spike_time3)*ms\n",
        "  indices3 = array(zeros(len(times3)))\n",
        "  in_const = SpikeGeneratorGroup(2,indices3, times3)\n",
        "\n",
        "\n",
        "  S1_not = Synapses(in_const, G_not, on_pre='v += 1.1')\n",
        "  S1_not.connect(i='0')\n",
        "\n",
        "  S2_not = Synapses(G_and2 , G_not, on_pre='v += -1.0')\n",
        "  S2_not.connect(i='0')\n",
        "\n",
        "\n",
        "  M_not = StateMonitor(G_not, 'v', record=True)\n",
        "  spike_mon_not = SpikeMonitor(G_not)\n",
        "\n",
        "  run(10000*ms)\n",
        "  if node ==\"XOR\":\n",
        "    return len(spike_mon_and2.i)/1000\n",
        "  elif node == \"equality\":\n",
        "    return len(spike_mon_and1.i)/len(spike_mon_not.i)\n",
        "  else:\n",
        "    return \"Select XOR or Equality.\""
      ]
    },
    {
      "cell_type": "code",
      "source": [
        "message_computations(\"equality\", 0.9, 0.1)"
      ],
      "metadata": {
        "colab": {
          "base_uri": "https://localhost:8080/"
        },
        "id": "MW6dFbhagvbX",
        "outputId": "e8aef447-96cd-4866-9084-978a5f149583"
      },
      "execution_count": null,
      "outputs": [
        {
          "output_type": "execute_result",
          "data": {
            "text/plain": [
              "0.4885057471264368"
            ]
          },
          "metadata": {},
          "execution_count": 19
        }
      ]
    },
    {
      "cell_type": "code",
      "source": [
        "message_computations(\"equality\", 0.18, 0.9)"
      ],
      "metadata": {
        "colab": {
          "base_uri": "https://localhost:8080/"
        },
        "id": "aCXCkIAbczl9",
        "outputId": "ff3e92e9-778c-485a-9667-d350c8463123"
      },
      "execution_count": null,
      "outputs": [
        {
          "output_type": "execute_result",
          "data": {
            "text/plain": [
              "0.6578947368421053"
            ]
          },
          "metadata": {},
          "execution_count": 20
        }
      ]
    },
    {
      "cell_type": "code",
      "source": [
        "message_computations(\"equality\", 0.18, 0.1)"
      ],
      "metadata": {
        "colab": {
          "base_uri": "https://localhost:8080/"
        },
        "id": "zTcAfoIPiTA4",
        "outputId": "8cce8194-d75d-4bd8-e92e-8955cfba1bfb"
      },
      "execution_count": null,
      "outputs": [
        {
          "output_type": "execute_result",
          "data": {
            "text/plain": [
              "0.02199223803363519"
            ]
          },
          "metadata": {},
          "execution_count": 21
        }
      ]
    },
    {
      "cell_type": "code",
      "source": [
        "message_computations(\"XOR\", 0.1, 0.1)"
      ],
      "metadata": {
        "colab": {
          "base_uri": "https://localhost:8080/"
        },
        "id": "YNxkqY8JdWD0",
        "outputId": "da77c41f-60e1-4df8-fd69-57510d9e4407"
      },
      "execution_count": null,
      "outputs": [
        {
          "output_type": "execute_result",
          "data": {
            "text/plain": [
              "0.174"
            ]
          },
          "metadata": {},
          "execution_count": 22
        }
      ]
    },
    {
      "cell_type": "code",
      "source": [
        "message_computations(\"XOR\", 0.5, 0.1)"
      ],
      "metadata": {
        "colab": {
          "base_uri": "https://localhost:8080/"
        },
        "id": "DuYBgigBidZ7",
        "outputId": "50f88d35-8f02-4aaa-fe24-03e7b2ce4835"
      },
      "execution_count": null,
      "outputs": [
        {
          "output_type": "execute_result",
          "data": {
            "text/plain": [
              "0.526"
            ]
          },
          "metadata": {},
          "execution_count": 24
        }
      ]
    }
  ]
}